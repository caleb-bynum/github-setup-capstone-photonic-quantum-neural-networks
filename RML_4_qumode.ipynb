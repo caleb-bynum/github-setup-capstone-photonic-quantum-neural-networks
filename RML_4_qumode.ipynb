{
 "cells": [
  {
   "cell_type": "markdown",
   "id": "0b560f09",
   "metadata": {},
   "source": [
    "### Author: Samuel Smith, Arthur Lobo"
   ]
  },
  {
   "cell_type": "markdown",
   "id": "8dd27300",
   "metadata": {},
   "source": [
    "#### Portland State University, Electrical and Computer Engineering"
   ]
  },
  {
   "cell_type": "markdown",
   "id": "28f86a71",
   "metadata": {},
   "source": [
    "Dependencies: keras-nightly==2.5.0.dev2021032900 PennyLane==0.17.0 StrawberryFields==0.18.0 tensorflow-2.4.0-cp38-cp38-macosx_10_9_x86_64.whl"
   ]
  },
  {
   "cell_type": "markdown",
   "id": "9fdfd7e7",
   "metadata": {},
   "source": [
    "# 4-qumode classifier\n",
    "\n",
    "Classical and Continuous Variable Quantum hybrid network: Classical layers using keras dense and quantum layers using Pennylane"
   ]
  },
  {
   "cell_type": "code",
   "execution_count": 17,
   "id": "a0767814",
   "metadata": {
    "lines_to_next_cell": 2
   },
   "outputs": [],
   "source": [
    "import tensorflow as tf\n",
    "import tensorflow_datasets as tfds\n",
    "from tensorflow import keras\n",
    "from tensorflow.keras import layers\n",
    "import tensorflow.keras.models as models\n",
    "from tensorflow.keras.layers import Reshape,Dense,Dropout,Flatten\n",
    "from tensorflow.keras.layers import Conv2D \n",
    "\n",
    "import pennylane as qml\n",
    "import numpy as np\n",
    "\n",
    "import matplotlib.pyplot as plt\n",
    "import pickle\n",
    "from sklearn import preprocessing\n",
    "import os\n",
    "#os.environ['CUDA_VISIBLE_DEVICES'] = '-1'\n",
    "\n",
    "tf.get_logger().setLevel('ERROR')"
   ]
  },
  {
   "cell_type": "markdown",
   "id": "a3a885b4",
   "metadata": {},
   "source": [
    "## 0. Loading data"
   ]
  },
  {
   "cell_type": "markdown",
   "id": "ff79e9f8",
   "metadata": {},
   "source": [
    "Normalize pixel values from 0 ~ 255 to 0 ~ 1"
   ]
  },
  {
   "cell_type": "code",
   "execution_count": 18,
   "id": "2c0614ec",
   "metadata": {
    "lines_to_next_cell": 1
   },
   "outputs": [
    {
     "name": "stdout",
     "output_type": "stream",
     "text": [
      "600 200\n",
      "[b'AM-SSB' b'QAM64' b'QPSK' b'WBFM']\n"
     ]
    }
   ],
   "source": [
    "Xd = pickle.load(open(\"./RML2016.10a_dict.pkl\",'rb'),encoding = \"bytes\")\n",
    "snrs,mods = map(lambda j: sorted(list(set(map(lambda x: x[j], Xd.keys())))), [1,0])\n",
    "\n",
    "# remove 7 modulations to only train on 4 modulations\n",
    "#mods.remove(b'QPSK')\n",
    "mods.remove(b'8PSK')\n",
    "mods.remove(b'AM-DSB')\n",
    "#mods.remove(b'AM-SSB')\n",
    "mods.remove(b'PAM4')\n",
    "mods.remove(b'QAM16')\n",
    "#mods.remove(b'QAM64')\n",
    "mods.remove(b'BPSK')\n",
    "mods.remove(b'CPFSK')\n",
    "mods.remove(b'GFSK')\n",
    "#mods.remove(b'WBFM')\n",
    "\n",
    "# read in data\n",
    "X = []\n",
    "lbl = []\n",
    "for mod in mods:\n",
    "    for snr in snrs:\n",
    "        X.append(Xd[(mod,snr)])\n",
    "        for i in range(Xd[(mod,snr)].shape[0]):  lbl.append((mod,snr))\n",
    "X = np.vstack(X)\n",
    "\n",
    "# Partition the data into training and test sets \n",
    "np.random.seed(2023)\n",
    "n_examples = X.shape[0]\n",
    "n_train = (3 * n_examples) // 4        # 75% to train\n",
    "\n",
    "idx = np.random.choice(range(0,n_examples), size=n_examples, replace=False)\n",
    "train_idx = idx[0:n_train]\n",
    "test_idx = idx[n_train:n_examples]\n",
    "\n",
    "div_factor = 100    # To use 100th of the dataset because 200,000 vectors may be too computationally expensive to train\n",
    "\n",
    "train_idx = train_idx[0:len(train_idx)//div_factor]\n",
    "test_idx = test_idx[0:len(test_idx)//div_factor]\n",
    "print(len(train_idx), len(test_idx))\n",
    "\n",
    "X_train = X[train_idx]\n",
    "X_test =  X[test_idx]\n",
    "\n",
    "#one-hot encode the labels\n",
    "lb = preprocessing.LabelBinarizer()\n",
    "lb.fit(np.asarray(lbl)[:,0])\n",
    "print(lb.classes_)\n",
    "lbl_encoded=lb.transform(np.asarray(lbl)[:,0])\n",
    "y_train=lbl_encoded[train_idx]\n",
    "y_test=lbl_encoded[test_idx]\n",
    "\n",
    "in_shp = list(X_train.shape[1:])"
   ]
  },
  {
   "cell_type": "markdown",
   "id": "2bea2418",
   "metadata": {},
   "source": [
    "One hot encode labels to vectors of size cutoff_dim^(num_qumodes)"
   ]
  },
  {
   "cell_type": "code",
   "execution_count": 19,
   "id": "efdf7816",
   "metadata": {},
   "outputs": [],
   "source": [
    "def one_hot(labels):  \n",
    "       \n",
    "    depth =  2**4                       # 4 classes + 12 zeros for padding\n",
    "    indices = labels.astype(np.int32)    \n",
    "    one_hot_labels = np.eye(depth)[indices].astype(np.float32) \n",
    "    \n",
    "    return one_hot_labels\n",
    "\n",
    "y_train = np.argmax(y_train, axis=1)\n",
    "y_test = np.argmax(y_test, axis=1)\n",
    "\n",
    "# one-hot encoded labels, each label of length cutoff dimension**2\n",
    "y_train, y_test = one_hot(y_train), one_hot(y_test)"
   ]
  },
  {
   "cell_type": "markdown",
   "id": "60bdc53d",
   "metadata": {},
   "source": [
    "## 1. Classical circuit"
   ]
  },
  {
   "cell_type": "code",
   "execution_count": 20,
   "id": "530091b2",
   "metadata": {},
   "outputs": [
    {
     "name": "stdout",
     "output_type": "stream",
     "text": [
      "Model: \"sequential_1\"\n",
      "_________________________________________________________________\n",
      " Layer (type)                Output Shape              Param #   \n",
      "=================================================================\n",
      " reshape_1 (Reshape)         (None, 2, 128, 1)         0         \n",
      "                                                                 \n",
      " conv2d_3 (Conv2D)           (None, 2, 113, 64)        1088      \n",
      "                                                                 \n",
      " dropout_3 (Dropout)         (None, 2, 113, 64)        0         \n",
      "                                                                 \n",
      " conv2d_4 (Conv2D)           (None, 1, 106, 32)        32800     \n",
      "                                                                 \n",
      " dropout_4 (Dropout)         (None, 1, 106, 32)        0         \n",
      "                                                                 \n",
      " conv2d_5 (Conv2D)           (None, 1, 103, 16)        2064      \n",
      "                                                                 \n",
      " dropout_5 (Dropout)         (None, 1, 103, 16)        0         \n",
      "                                                                 \n",
      " flatten_1 (Flatten)         (None, 1648)              0         \n",
      "                                                                 \n",
      " dense_1 (Dense)             (None, 30)                49470     \n",
      "                                                                 \n",
      "=================================================================\n",
      "Total params: 85,422\n",
      "Trainable params: 85,422\n",
      "Non-trainable params: 0\n",
      "_________________________________________________________________\n"
     ]
    }
   ],
   "source": [
    "# Define classical layers using Keras Sequential. Take in 2x128 radio modulations, flatten, and output vectors of length 30. 2 hidden layers with ELU activation.\n",
    "model = models.Sequential()\n",
    "model.add(Reshape(in_shp + [1], input_shape = in_shp))\n",
    "\n",
    "model.add(Conv2D(64, (1, 16), activation ='relu'))\n",
    "model.add(Dropout(0.55))\n",
    "\n",
    "model.add(Conv2D(32, (2, 8), activation ='relu'))\n",
    "model.add(Dropout(0.55))\n",
    "\n",
    "\n",
    "model.add(Conv2D(16, (1, 4), activation ='relu'))\n",
    "model.add(Dropout(0.55))\n",
    "\n",
    "model.add(Flatten())\n",
    "\n",
    "model.add(Dense(30, activation ='sigmoid'))\n",
    "\n",
    "\n",
    "# More than a million parameters for the classical circuit\n",
    "model.summary()"
   ]
  },
  {
   "cell_type": "markdown",
   "id": "122d42ff",
   "metadata": {
    "lines_to_next_cell": 1
   },
   "source": [
    "Define classical layers using Keras Sequential. Take in 2x128 radio modulations, flatten, and output vectors of length 30. 2 hidden layers with ELU activation.\n",
    "model = models.Sequential()\n",
    "model.add(Reshape(in_shp + [1], input_shape = in_shp))\n",
    "\n",
    "model.add(Conv2D(64, (1, 16), activation ='relu'))\n",
    "model.add(Dropout(0.55))\n",
    "\n",
    "model.add(Conv2D(32, (2, 8), activation ='relu'))\n",
    "model.add(Dropout(0.55))\n",
    "\n",
    "\n",
    "model.add(Conv2D(16, (1, 4), activation ='relu'))\n",
    "model.add(Dropout(0.55))\n",
    "\n",
    "model.add(Flatten())\n",
    "\n",
    "model.add(Dense(30, activation ='sigmoid'))\n",
    "\n",
    "\n",
    "More than a million parameters for the classical circuit\n",
    "model.summary()"
   ]
  },
  {
   "cell_type": "markdown",
   "id": "9f6cab55",
   "metadata": {},
   "source": [
    "## 2. Data encoding circuit"
   ]
  },
  {
   "cell_type": "markdown",
   "id": "bb0b80f5",
   "metadata": {},
   "source": [
    "Encode the output vectors from the classical network into quantum states using the vector entries as parameters of continuous variable gates. "
   ]
  },
  {
   "cell_type": "code",
   "execution_count": 21,
   "id": "a847d24a",
   "metadata": {
    "lines_to_next_cell": 1
   },
   "outputs": [],
   "source": [
    "def encode_data(x):\n",
    "    qml.Squeezing(x[0], x[1], wires=0)\n",
    "    qml.Squeezing(x[2], x[3], wires=1)\n",
    "    qml.Squeezing(x[4], x[5], wires=2)\n",
    "    qml.Squeezing(x[6], x[7], wires=3)\n",
    "    \n",
    "    qml.Beamsplitter(x[8], x[9], wires=[0,1])\n",
    "    qml.Beamsplitter(x[10], x[11], wires=[1,2])\n",
    "    qml.Beamsplitter(x[12], x[13], wires=[2,3])\n",
    "    \n",
    "    qml.Rotation(x[14], wires=0)\n",
    "    qml.Rotation(x[15], wires=1)\n",
    "    qml.Rotation(x[16], wires=2)\n",
    "    qml.Rotation(x[17], wires=3)    \n",
    "    \n",
    "    qml.Displacement(x[18], x[19], wires=0)\n",
    "    qml.Displacement(x[20], x[21], wires=1)\n",
    "    qml.Displacement(x[22], x[23], wires=2)\n",
    "    qml.Displacement(x[24], x[25], wires=3) \n",
    "    \n",
    "    qml.Kerr(x[26], wires=0)\n",
    "    qml.Kerr(x[27], wires=1)\n",
    "    qml.Kerr(x[28], wires=2)\n",
    "    qml.Kerr(x[29], wires=3)"
   ]
  },
  {
   "cell_type": "markdown",
   "id": "993d911b",
   "metadata": {},
   "source": [
    "## 3. Qauntum neural network circuit"
   ]
  },
  {
   "cell_type": "code",
   "execution_count": 22,
   "id": "c3f959fa",
   "metadata": {
    "lines_to_next_cell": 1
   },
   "outputs": [],
   "source": [
    "def layer(v):\n",
    "    \n",
    "    # Linear transformation W = Interferemeter, squeezers, interferometer\n",
    "    # Interferometer 1\n",
    "    qml.Beamsplitter(v[0], v[1], wires=[0,1])\n",
    "    qml.Beamsplitter(v[2], v[3], wires=[1,2])\n",
    "    qml.Beamsplitter(v[4], v[5], wires=[2,3])\n",
    "    \n",
    "    qml.Rotation(v[6], wires=0)\n",
    "    qml.Rotation(v[7], wires=1)\n",
    "    qml.Rotation(v[8], wires=2)\n",
    "    qml.Rotation(v[9], wires=3)\n",
    "    \n",
    "    # Squeezers\n",
    "    qml.Squeezing(v[10], v[11], wires=0)\n",
    "    qml.Squeezing(v[12], v[13], wires=1)\n",
    "    qml.Squeezing(v[14], v[15], wires=2)\n",
    "    qml.Squeezing(v[16], v[17], wires=3) \n",
    "    \n",
    "    # Interferometer 2\n",
    "    qml.Beamsplitter(v[18], v[19], wires=[0,1])\n",
    "    qml.Beamsplitter(v[20], v[21], wires=[1,2])\n",
    "    qml.Beamsplitter(v[22], v[23], wires=[2,3])\n",
    "    \n",
    "    qml.Rotation(v[24], wires=0)\n",
    "    qml.Rotation(v[25], wires=1)\n",
    "    qml.Rotation(v[26], wires=2)\n",
    "    qml.Rotation(v[27], wires=3)\n",
    "    \n",
    "    # Bias addition\n",
    "    qml.Displacement(v[28], v[29], wires=0)\n",
    "    qml.Displacement(v[30], v[31], wires=1)\n",
    "    qml.Displacement(v[32], v[33], wires=2)\n",
    "    qml.Displacement(v[34], v[35], wires=3)\n",
    "    \n",
    "    # Non-linear activation\n",
    "    qml.Kerr(v[36], wires=0)\n",
    "    qml.Kerr(v[37], wires=1)\n",
    "    qml.Kerr(v[38], wires=2)\n",
    "    qml.Kerr(v[39], wires=3)"
   ]
  },
  {
   "cell_type": "markdown",
   "id": "81eeeb3c",
   "metadata": {},
   "source": [
    "## 4. Quantum device"
   ]
  },
  {
   "cell_type": "markdown",
   "id": "48a9adba",
   "metadata": {},
   "source": [
    "For the expression of qumodes in Fock basis, choose a \"strawberryfields.fock\" device. Define the number of qumodes and cutoff dimension. Run the data encoding circuit and quantum neural network circuit. The probability measurement method (qml.probs(wires)) returns vectors of size 2^4 = 16 (cutoff_dim^num_modes)."
   ]
  },
  {
   "cell_type": "code",
   "execution_count": 23,
   "id": "3743469d",
   "metadata": {
    "lines_to_next_cell": 1
   },
   "outputs": [],
   "source": [
    "num_modes = 4\n",
    "cutoff_dim = 2\n",
    "\n",
    "# select a devide \n",
    "dev = qml.device(\"strawberryfields.fock\", wires=num_modes, cutoff_dim=cutoff_dim) \n",
    "\n",
    "@qml.qnode(dev, interface=\"tf\")\n",
    "def quantum_nn(inputs, var):\n",
    "    # Encode input x into quantum state\n",
    "    encode_data(inputs)\n",
    "\n",
    "    # iterative quantum layers\n",
    "    for v in var:\n",
    "        layer(v)\n",
    "\n",
    "    return qml.probs(wires=[0, 1, 2, 3])  # Measurement"
   ]
  },
  {
   "cell_type": "markdown",
   "id": "90f1652a",
   "metadata": {},
   "source": [
    "## 5. Hybrid circuit"
   ]
  },
  {
   "cell_type": "code",
   "execution_count": 24,
   "id": "427bfa2d",
   "metadata": {
    "lines_to_next_cell": 2
   },
   "outputs": [],
   "source": [
    "num_layers = 4\n",
    "weight_shape = {'var': (num_layers, 40)}          # 4 layers and 40 parameters per layer, Keras layer will initialize.\n",
    "\n",
    "qlayer = qml.qnn.KerasLayer(quantum_nn, weight_shape, output_dim = 4)\n",
    "\n",
    "# add to the classical sequential model\n",
    "model.add(qlayer)"
   ]
  },
  {
   "cell_type": "markdown",
   "id": "2435522c",
   "metadata": {},
   "source": [
    "## 6. Loss function and optimizer"
   ]
  },
  {
   "cell_type": "code",
   "execution_count": 25,
   "id": "698c62d1",
   "metadata": {
    "lines_to_next_cell": 2
   },
   "outputs": [],
   "source": [
    "#opt = keras.optimizers.SGD(lr = 0.02)\n",
    "opt = keras.optimizers.Adam(learning_rate = 0.02)\n",
    "model.compile(opt, loss = 'categorical_crossentropy', metrics =['accuracy'])\n",
    "class ModelCheckpoint(keras.callbacks.Callback):\n",
    "\n",
    "    def __init__(self):\n",
    "        super().__init__()\n",
    "        self.best_accuracy = 0.0000  # Initial value is 0, if warm-starting use value of the best validation accuracy so far\n",
    "        self.f1 = open(\"loss_accuracy_CV_4_qumodes_co4\", 'a')   # change name for your specific case\n",
    "\n",
    "    def on_epoch_end(self, epoch, logs=None):\n",
    "#        print(self.model.get_layer('dense').get_weights())\n",
    "#        print(self.model.get_layer('keras_layer').get_weights())\n",
    "        self.f1.write(\"%f %f %f %f\\n\" % (logs['loss'], logs['accuracy'], logs['val_loss'], logs['val_accuracy']))\n",
    "        self.f1.flush()\n",
    "        if logs['val_accuracy'] > self.best_accuracy:\n",
    "            print(\"saving weights\")\n",
    "            self.best_accuracy = logs['val_accuracy']\n",
    "            self.model.save_weights('RML_CV_4_qumodes_co4')   # change name for your specific case\n",
    "\n",
    "ckpt = ModelCheckpoint()\n",
    "\n",
    "\n",
    "#Uncomment the following two lines for warm start\n",
    "#model.load_weights('CV_4_qumodes_co2')\n",
    "#print('loaded model')"
   ]
  },
  {
   "cell_type": "markdown",
   "id": "41122ee0",
   "metadata": {},
   "source": [
    "## 7. Training"
   ]
  },
  {
   "cell_type": "code",
   "execution_count": 26,
   "id": "22bbaf0f",
   "metadata": {},
   "outputs": [
    {
     "name": "stdout",
     "output_type": "stream",
     "text": [
      "Epoch 1/150\n"
     ]
    }
   ],
   "source": [
    "hybrid = model.fit(X_train, \n",
    "                   y_train,\n",
    "                   epochs = 150,\n",
    "                   batch_size = 256,\n",
    "                   shuffle = True, \n",
    "                   validation_data = (X_test, y_test),\n",
    "                   callbacks = [ckpt])"
   ]
  },
  {
   "cell_type": "code",
   "execution_count": null,
   "id": "b3389d84",
   "metadata": {},
   "outputs": [],
   "source": [
    "model.summary()"
   ]
  },
  {
   "cell_type": "markdown",
   "id": "a7626b81",
   "metadata": {},
   "source": [
    "## 8. Loss and accuracy graphs"
   ]
  },
  {
   "cell_type": "code",
   "execution_count": null,
   "id": "55a1b3c2",
   "metadata": {},
   "outputs": [],
   "source": [
    "# ===================================================================================\n",
    "#                                  Loss History Plot\n",
    "# ===================================================================================\n",
    "\n",
    "plt.title('model loss')\n",
    "plt.plot(hybrid.history['loss'], '-g')\n",
    "plt.ylabel('loss')\n",
    "plt.show()"
   ]
  },
  {
   "cell_type": "code",
   "execution_count": null,
   "id": "06ae03bc",
   "metadata": {
    "lines_to_next_cell": 3
   },
   "outputs": [],
   "source": [
    "# ===================================================================================\n",
    "#                                Accuracy History Plot\n",
    "# ===================================================================================\n",
    "\n",
    "plt.title('model accuracy')\n",
    "plt.plot(hybrid.history['accuracy'], '-g')\n",
    "plt.ylabel('accuracy')\n",
    "plt.show()"
   ]
  }
 ],
 "metadata": {
  "jupytext": {
   "cell_metadata_filter": "-all",
   "main_language": "python",
   "notebook_metadata_filter": "-all"
  },
  "kernelspec": {
   "display_name": "tamu_py38",
   "language": "python",
   "name": "python3"
  },
  "language_info": {
   "codemirror_mode": {
    "name": "ipython",
    "version": 3
   },
   "file_extension": ".py",
   "mimetype": "text/x-python",
   "name": "python",
   "nbconvert_exporter": "python",
   "pygments_lexer": "ipython3",
   "version": "3.8.18"
  }
 },
 "nbformat": 4,
 "nbformat_minor": 5
}
